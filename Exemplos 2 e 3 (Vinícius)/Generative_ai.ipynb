{
 "cells": [
  {
   "cell_type": "code",
   "execution_count": 161,
   "metadata": {},
   "outputs": [],
   "source": [
    "import sys\n",
    "import os\n",
    "script_dir = os.getcwd()\n",
    "sys.path.append(script_dir)"
   ]
  },
  {
   "cell_type": "code",
   "execution_count": 162,
   "metadata": {},
   "outputs": [],
   "source": [
    "from dotenv import load_dotenv, set_key, find_dotenv\n",
    "import google.generativeai as gemini\n",
    "import google.generativeai.client as client"
   ]
  },
  {
   "cell_type": "code",
   "execution_count": 163,
   "metadata": {},
   "outputs": [],
   "source": [
    "def carrega_chave(): # Carrega uma chave do arquivo .env\n",
    "    _ = load_dotenv(find_dotenv())\n",
    "    chave = os.getenv(\"GOOGLE_API_KEY\")\n",
    "    gemini.configure(api_key=os.getenv('GOOGLE_API_KEY'))\n",
    "\n",
    "    print(f\"Chave API carregada com sucesso!\")\n",
    "    return chave\n",
    "\n",
    "def verifica_chave(): # Verifica a existência de um arquivo .env \n",
    "    return find_dotenv()"
   ]
  },
  {
   "cell_type": "markdown",
   "metadata": {},
   "source": [
    "[\n",
    "    ('Smartphone Motorola G3 4G 64GB Wi-Fi Tela 5,5 Pol. 2GB RAM Preto - P9223', \n",
    "     {'entities': [\n",
    "         (11, 19, 'MARCA'),\n",
    "         (20, 22, 'MODELO'),\n",
    "         (26, 30, 'MEMORIA')\n",
    "     ]}),\n",
    "    ('Apple iPhone 15 Pro Max (512 GB) — Titânio Azul', \n",
    "     {'entities': [\n",
    "         (0, 5, 'MARCA'), \n",
    "         (6, 15, 'MODELO'), \n",
    "         (25, 31, 'MEMORIA')\n",
    "     ]}),\n",
    "    ('Smartphone Motorola Moto G24 8GB RAM Boost* 128GB Grafite', \n",
    "     {'entities': [\n",
    "         (11, 19, 'MARCA'), \n",
    "         (20, 28, 'MODELO'),\n",
    "         (44, 49, 'MEMORIA')\n",
    "     ]}),\n",
    "    ('Smartphone Samsung Galaxy A15 4G 128GB - Azul Escuro', \n",
    "     {'entities': [\n",
    "         (11, 18, 'MARCA'), \n",
    "         (19, 29, 'MODELO'), \n",
    "         (33, 38, 'MEMORIA')\n",
    "     ]}),\n",
    "    ('Smartphone Samsung Galaxy A15 5G 128GB - Azul Claro', \n",
    "     {'entities': [\n",
    "         (11, 18, 'MARCA'),\n",
    "         (19, 29, 'MODELO'),\n",
    "         (33, 38, 'MEMORIA')\n",
    "     ]})\n",
    "]"
   ]
  },
  {
   "cell_type": "code",
   "execution_count": 164,
   "metadata": {},
   "outputs": [
    {
     "name": "stdout",
     "output_type": "stream",
     "text": [
      "Chave API carregada com sucesso!\n"
     ]
    }
   ],
   "source": [
    "chave = carrega_chave()"
   ]
  },
  {
   "cell_type": "code",
   "execution_count": 165,
   "metadata": {},
   "outputs": [
    {
     "name": "stdout",
     "output_type": "stream",
     "text": [
      "models/gemini-1.0-pro-latest\n",
      "models/gemini-1.0-pro\n",
      "models/gemini-pro\n",
      "models/gemini-1.0-pro-001\n",
      "models/gemini-1.0-pro-vision-latest\n",
      "models/gemini-pro-vision\n",
      "models/gemini-1.5-pro-latest\n",
      "models/gemini-1.5-pro-001\n",
      "models/gemini-1.5-pro\n",
      "models/gemini-1.5-pro-exp-0801\n",
      "models/gemini-1.5-flash-latest\n",
      "models/gemini-1.5-flash-001\n",
      "models/gemini-1.5-flash\n"
     ]
    }
   ],
   "source": [
    "modelos = client.get_default_model_client().list_models()\n",
    "# Carregando o modelo\n",
    "for model in modelos:\n",
    "    if 'generateContent' in model.supported_generation_methods:\n",
    "        print(model.name)"
   ]
  },
  {
   "cell_type": "code",
   "execution_count": 166,
   "metadata": {},
   "outputs": [],
   "source": [
    "model = gemini.GenerativeModel('gemini-1.5-flash')"
   ]
  },
  {
   "cell_type": "code",
   "execution_count": 167,
   "metadata": {},
   "outputs": [
    {
     "data": {
      "text/plain": [
       "ChatSession(\n",
       "    model=genai.GenerativeModel(\n",
       "        model_name='models/gemini-1.5-flash',\n",
       "        generation_config={},\n",
       "        safety_settings={},\n",
       "        tools=None,\n",
       "        system_instruction=None,\n",
       "        cached_content=None\n",
       "    ),\n",
       "    history=[]\n",
       ")"
      ]
     },
     "execution_count": 167,
     "metadata": {},
     "output_type": "execute_result"
    }
   ],
   "source": [
    "chat = model.start_chat(history=[])\n",
    "chat # agora o chat está armazenado nesta variável"
   ]
  },
  {
   "cell_type": "markdown",
   "metadata": {},
   "source": [
    "Eu gostaria de facilitar minha vida na hora de treinar um modelo de IA Ner, para isso gostaria que você me ajudasse do seguinte modo, vou passar para você nomes de smartfones como: Smartphone Samsung Galaxy A15 5G 128GB - Azul Claro e gostaria que me retornasse a separação do mesmo em 3 entidades se elas existirem ('Smartphone Samsung Galaxy A15 5G 128GB - Azul Claro', {'entities': [(10, 17, 'MARCA'), (18, 29, 'MODELO'), (30, 36, 'MEMORIA')]}).\n",
    "\n",
    "Aqui esta como eu quero a saida com 5 exemplos [\n",
    "    ('Smartphone Multi G 3 4G 64GB Wi-Fi Tela 5,5 Pol. 2GB RAM Preto - P9223', \n",
    "     {'entities': [\n",
    "         (10, 15, 'MARCA'), \n",
    "         (16, 25, 'MODELO'), \n",
    "         (26, 31, 'MEMORIA')\n",
    "     ]}),\n",
    "    ('Apple iPhone 15 Pro Max (512 GB) — Titânio Azul', \n",
    "     {'entities': [\n",
    "         (0, 5, 'MARCA'), \n",
    "         (6, 18, 'MODELO'), \n",
    "         (19, 26, 'MEMORIA')\n",
    "     ]}),\n",
    "    ('Smartphone Motorola Moto G24 8GB RAM Boost* 128GB Grafite', \n",
    "     {'entities': [\n",
    "         (10, 18, 'MARCA'), \n",
    "         (19, 27, 'MODELO'), \n",
    "         (28, 34, 'MEMORIA')\n",
    "     ]}),\n",
    "    ('Smartphone Samsung Galaxy A15 4G 128GB - Azul Escuro', \n",
    "     {'entities': [\n",
    "         (10, 17, 'MARCA'), \n",
    "         (18, 29, 'MODELO'), \n",
    "         (30, 36, 'MEMORIA')\n",
    "     ]}),\n",
    "    ('Smartphone Samsung Galaxy A15 5G 128GB - Azul Claro', \n",
    "     {'entities': [\n",
    "         (10, 17, 'MARCA'),\n",
    "         (18, 29, 'MODELO'),\n",
    "         (30, 36, 'MEMORIA')\n",
    "     ]}),\n",
    "    ('Smartphone Motorola Moto G34 5G 8GB RAM Boost* 128GB Preto', \n",
    "     {'entities': [\n",
    "         (10, 18, 'MARCA'),\n",
    "         (19, 27, 'MODELO'),\n",
    "         (28, 34, 'MEMORIA')\n",
    "     ]})\n",
    "].\n",
    "\n",
    "Você vai receber uma lista com nomes de smartfones e eu quero que a saída seja exatamente igual ao modelo de saída fornecido."
   ]
  },
  {
   "cell_type": "code",
   "execution_count": 168,
   "metadata": {},
   "outputs": [
    {
     "name": "stdout",
     "output_type": "stream",
     "text": [
      "## Extração de Entidades de Nomes de Smartphones\n",
      "\n",
      "Entendi perfeitamente o que você precisa! Vou analisar cada nome de smartphone que você me fornecer e extrair as entidades \"MARCA\", \"MODELO\" e \"MEMORIA\", seguindo o padrão que você definiu. \n",
      "\n",
      "**Exemplo de Entrada:** \n",
      "\n",
      "```\n",
      "Smartphone Samsung Galaxy A15 5G 128GB - Azul Claro\n",
      "```\n",
      "\n",
      "**Exemplo de Saída:**\n",
      "\n",
      "```\n",
      "('Smartphone Samsung Galaxy A15 5G 128GB - Azul Claro', \n",
      " {'entities': [(10, 17, 'MARCA'), (18, 29, 'MODELO'), (30, 36, 'MEMORIA')]})\n",
      "```\n",
      "\n",
      "**Por favor, me envie a lista de nomes de smartphones e eu farei a extração das entidades para você.** \n",
      "\n",
      "Estou pronto para ajudar a facilitar seu treinamento de IA! 😊 \n",
      "\n"
     ]
    }
   ],
   "source": [
    "resposta = chat.send_message(\"\"\"Eu gostaria de facilitar minha vida na hora de treinar um modelo de IA Ner, para isso gostaria que você me ajudasse do seguinte modo, vou passar para você nomes de smartfones como: Smartphone Samsung Galaxy A15 5G 128GB - Azul Claro e gostaria que me retornasse a separação do mesmo em 3 entidades se elas existirem ('Smartphone Samsung Galaxy A15 5G 128GB - Azul Claro', {'entities': [(10, 17, 'MARCA'), (18, 29, 'MODELO'), (30, 36, 'MEMORIA')]}).\n",
    "\n",
    "Aqui esta como eu quero a saida com 5 exemplos [\n",
    "    ('Smartphone Multi G 3 4G 64GB Wi-Fi Tela 5,5 Pol. 2GB RAM Preto - P9223', \n",
    "     {'entities': [\n",
    "         (10, 15, 'MARCA'), \n",
    "         (16, 25, 'MODELO'), \n",
    "         (26, 31, 'MEMORIA')\n",
    "     ]}),\n",
    "    ('Apple iPhone 15 Pro Max (512 GB) — Titânio Azul', \n",
    "     {'entities': [\n",
    "         (0, 5, 'MARCA'), \n",
    "         (6, 18, 'MODELO'), \n",
    "         (19, 26, 'MEMORIA')\n",
    "     ]}),\n",
    "    ('Smartphone Motorola Moto G24 8GB RAM Boost* 128GB Grafite', \n",
    "     {'entities': [\n",
    "         (10, 18, 'MARCA'), \n",
    "         (19, 27, 'MODELO'), \n",
    "         (28, 34, 'MEMORIA')\n",
    "     ]}),\n",
    "    ('Smartphone Samsung Galaxy A15 4G 128GB - Azul Escuro', \n",
    "     {'entities': [\n",
    "         (10, 17, 'MARCA'), \n",
    "         (18, 29, 'MODELO'), \n",
    "         (30, 36, 'MEMORIA')\n",
    "     ]}),\n",
    "    ('Smartphone Samsung Galaxy A15 5G 128GB - Azul Claro', \n",
    "     {'entities': [\n",
    "         (10, 17, 'MARCA'),\n",
    "         (18, 29, 'MODELO'),\n",
    "         (30, 36, 'MEMORIA')\n",
    "     ]}),\n",
    "    ('Smartphone Motorola Moto G34 5G 8GB RAM Boost* 128GB Preto', \n",
    "     {'entities': [\n",
    "         (10, 18, 'MARCA'),\n",
    "         (19, 27, 'MODELO'),\n",
    "         (28, 34, 'MEMORIA')\n",
    "     ]})\n",
    "].\n",
    "\n",
    "Você vai receber uma lista com nomes de smartfones e eu quero que a saída seja exatamente igual ao modelo de saída fornecido. (Não quero que escreva um codigo paenas que quando eu der a entrada a voce me devolva a saida com as entidades recuperadas no formato acima)\"\"\")\n",
    "print(resposta.text)"
   ]
  },
  {
   "cell_type": "code",
   "execution_count": 169,
   "metadata": {},
   "outputs": [
    {
     "name": "stdout",
     "output_type": "stream",
     "text": [
      "[parts {\n",
      "  text: \"Eu gostaria de facilitar minha vida na hora de treinar um modelo de IA Ner, para isso gostaria que você me ajudasse do seguinte modo, vou passar para você nomes de smartfones como: Smartphone Samsung Galaxy A15 5G 128GB - Azul Claro e gostaria que me retornasse a separação do mesmo em 3 entidades se elas existirem (\\'Smartphone Samsung Galaxy A15 5G 128GB - Azul Claro\\', {\\'entities\\': [(10, 17, \\'MARCA\\'), (18, 29, \\'MODELO\\'), (30, 36, \\'MEMORIA\\')]}).\\n\\nAqui esta como eu quero a saida com 5 exemplos [\\n    (\\'Smartphone Multi G 3 4G 64GB Wi-Fi Tela 5,5 Pol. 2GB RAM Preto - P9223\\', \\n     {\\'entities\\': [\\n         (10, 15, \\'MARCA\\'), \\n         (16, 25, \\'MODELO\\'), \\n         (26, 31, \\'MEMORIA\\')\\n     ]}),\\n    (\\'Apple iPhone 15 Pro Max (512 GB) — Titânio Azul\\', \\n     {\\'entities\\': [\\n         (0, 5, \\'MARCA\\'), \\n         (6, 18, \\'MODELO\\'), \\n         (19, 26, \\'MEMORIA\\')\\n     ]}),\\n    (\\'Smartphone Motorola Moto G24 8GB RAM Boost* 128GB Grafite\\', \\n     {\\'entities\\': [\\n         (10, 18, \\'MARCA\\'), \\n         (19, 27, \\'MODELO\\'), \\n         (28, 34, \\'MEMORIA\\')\\n     ]}),\\n    (\\'Smartphone Samsung Galaxy A15 4G 128GB - Azul Escuro\\', \\n     {\\'entities\\': [\\n         (10, 17, \\'MARCA\\'), \\n         (18, 29, \\'MODELO\\'), \\n         (30, 36, \\'MEMORIA\\')\\n     ]}),\\n    (\\'Smartphone Samsung Galaxy A15 5G 128GB - Azul Claro\\', \\n     {\\'entities\\': [\\n         (10, 17, \\'MARCA\\'),\\n         (18, 29, \\'MODELO\\'),\\n         (30, 36, \\'MEMORIA\\')\\n     ]}),\\n    (\\'Smartphone Motorola Moto G34 5G 8GB RAM Boost* 128GB Preto\\', \\n     {\\'entities\\': [\\n         (10, 18, \\'MARCA\\'),\\n         (19, 27, \\'MODELO\\'),\\n         (28, 34, \\'MEMORIA\\')\\n     ]})\\n].\\n\\nVocê vai receber uma lista com nomes de smartfones e eu quero que a saída seja exatamente igual ao modelo de saída fornecido. (Não quero que escreva um codigo paenas que quando eu der a entrada a voce me devolva a saida com as entidades recuperadas no formato acima)\"\n",
      "}\n",
      "role: \"user\"\n",
      ", parts {\n",
      "  text: \"## Extração de Entidades de Nomes de Smartphones\\n\\nEntendi perfeitamente o que você precisa! Vou analisar cada nome de smartphone que você me fornecer e extrair as entidades \\\"MARCA\\\", \\\"MODELO\\\" e \\\"MEMORIA\\\", seguindo o padrão que você definiu. \\n\\n**Exemplo de Entrada:** \\n\\n```\\nSmartphone Samsung Galaxy A15 5G 128GB - Azul Claro\\n```\\n\\n**Exemplo de Saída:**\\n\\n```\\n(\\'Smartphone Samsung Galaxy A15 5G 128GB - Azul Claro\\', \\n {\\'entities\\': [(10, 17, \\'MARCA\\'), (18, 29, \\'MODELO\\'), (30, 36, \\'MEMORIA\\')]})\\n```\\n\\n**Por favor, me envie a lista de nomes de smartphones e eu farei a extração das entidades para você.** \\n\\nEstou pronto para ajudar a facilitar seu treinamento de IA! 😊 \\n\"\n",
      "}\n",
      "role: \"model\"\n",
      "]\n"
     ]
    }
   ],
   "source": [
    "print(chat.history)"
   ]
  },
  {
   "cell_type": "code",
   "execution_count": 170,
   "metadata": {},
   "outputs": [
    {
     "name": "stdout",
     "output_type": "stream",
     "text": [
      "Aqui estão as entidades extraídas dos nomes dos smartphones que você forneceu:\n",
      "\n",
      "```python\n",
      "[\n",
      "    ('Apple iPhone 13 (512 GB) - Rosa', \n",
      "     {'entities': [\n",
      "         (0, 5, 'MARCA'), \n",
      "         (6, 18, 'MODELO'), \n",
      "         (19, 27, 'MEMORIA')\n",
      "     ]}),\n",
      "    ('Smartphone Motorola Moto G34 5G 16GB RAM Boost* 256GB Verde - Vegan Leather', \n",
      "     {'entities': [\n",
      "         (10, 18, 'MARCA'), \n",
      "         (19, 27, 'MODELO'), \n",
      "         (47, 53, 'MEMORIA')\n",
      "     ]})\n",
      "]\n",
      "```\n",
      "\n",
      "**Explicação:**\n",
      "\n",
      "* **(Apple iPhone 13 (512 GB) - Rosa)**\n",
      "    * **MARCA:** 'Apple' (posições 0-5)\n",
      "    * **MODELO:** 'iPhone 13' (posições 6-18)\n",
      "    * **MEMORIA:** '512 GB' (posições 19-27)\n",
      "* **(Smartphone Motorola Moto G34 5G 16GB RAM Boost* 256GB Verde - Vegan Leather)**\n",
      "    * **MARCA:** 'Motorola' (posições 10-18)\n",
      "    * **MODELO:** 'Moto G34' (posições 19-27)\n",
      "    * **MEMORIA:** '256GB' (posições 47-53)\n",
      "\n",
      "Lembre-se que a extração de entidades pode ser complexa em alguns casos, especialmente quando há informações adicionais como \"RAM Boost\" ou descrições de cores e materiais. \n",
      "\n",
      "Se você tiver mais nomes de smartphones para analisar, fique à vontade para me enviar! \n",
      "\n"
     ]
    }
   ],
   "source": [
    "resposta = chat.send_message(\"(Apple iPhone 13 (512 GB) - Rosa), (Smartphone Motorola Moto G34 5G 16GB RAM Boost* 256GB Verde - Vegan Leather)\")\n",
    "print(resposta.text)"
   ]
  },
  {
   "cell_type": "code",
   "execution_count": 173,
   "metadata": {},
   "outputs": [
    {
     "name": "stdout",
     "output_type": "stream",
     "text": [
      "\u001b[34mApple\u001b[0m \u001b[32miPhone 13 (5\u001b[0m1\u001b[31m2 GB) - \u001b[0mRosa\n",
      "Smartphone\u001b[34m Motorol\u001b[0ma\u001b[32m Moto G3\u001b[0m4 5G 16GB RAM Boost*\u001b[31m 256GB\u001b[0m Verde - Vegan Leather\n"
     ]
    }
   ],
   "source": [
    "from termcolor import colored\n",
    "\n",
    "def destacar_entidades(data):\n",
    "    for texto, anotacao in data:\n",
    "        entidades = anotacao['entities']\n",
    "        partes_destacadas = []\n",
    "        last_index = 0\n",
    "\n",
    "        # Processar cada entidade para destacá-la com a cor apropriada\n",
    "        for start, end, tipo in entidades:\n",
    "            # Adicionar a parte do texto antes da entidade sem cor\n",
    "            partes_destacadas.append(texto[last_index:start])\n",
    "\n",
    "            # Destacar a entidade com cor baseada no tipo\n",
    "            if tipo == 'MARCA':\n",
    "                partes_destacadas.append(colored(texto[start:end], 'blue'))\n",
    "            elif tipo == 'MODELO':\n",
    "                partes_destacadas.append(colored(texto[start:end], 'green'))\n",
    "            elif tipo == 'MEMORIA':\n",
    "                partes_destacadas.append(colored(texto[start:end], 'red'))\n",
    "\n",
    "            last_index = end\n",
    "\n",
    "        # Adicionar qualquer texto restante após a última entidade\n",
    "        partes_destacadas.append(texto[last_index:])\n",
    "        \n",
    "        # Juntar e imprimir as partes destacadas\n",
    "        resultado = ''.join(partes_destacadas)\n",
    "        print(resultado)\n",
    "\n",
    "# Dados de exemplo\n",
    "data = [\n",
    "    ('Apple iPhone 13 (512 GB) - Rosa', \n",
    "     {'entities': [\n",
    "         (0, 5, 'MARCA'), \n",
    "         (6, 18, 'MODELO'), \n",
    "         (19, 27, 'MEMORIA')\n",
    "     ]}),\n",
    "    ('Smartphone Motorola Moto G34 5G 16GB RAM Boost* 256GB Verde - Vegan Leather', \n",
    "     {'entities': [\n",
    "         (10, 18, 'MARCA'), \n",
    "         (19, 27, 'MODELO'), \n",
    "         (47, 53, 'MEMORIA')\n",
    "     ]})\n",
    "]\n",
    "\n",
    "# Chamar a função com os dados de exemplo\n",
    "destacar_entidades(data)\n"
   ]
  }
 ],
 "metadata": {
  "kernelspec": {
   "display_name": "Python 3",
   "language": "python",
   "name": "python3"
  },
  "language_info": {
   "codemirror_mode": {
    "name": "ipython",
    "version": 3
   },
   "file_extension": ".py",
   "mimetype": "text/x-python",
   "name": "python",
   "nbconvert_exporter": "python",
   "pygments_lexer": "ipython3",
   "version": "3.11.4"
  }
 },
 "nbformat": 4,
 "nbformat_minor": 2
}
